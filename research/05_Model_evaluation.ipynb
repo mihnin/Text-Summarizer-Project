{
 "cells": [
  {
   "cell_type": "code",
   "execution_count": 1,
   "metadata": {},
   "outputs": [],
   "source": [
    "import os # импортировать библиотеку для работы с файлами"
   ]
  },
  {
   "cell_type": "code",
   "execution_count": 2,
   "metadata": {},
   "outputs": [
    {
     "data": {
      "text/plain": [
       "'c:\\\\Users\\\\Mikhnin\\\\Desktop\\\\project_1\\\\Text-Summarizer-Project\\\\research'"
      ]
     },
     "execution_count": 2,
     "metadata": {},
     "output_type": "execute_result"
    }
   ],
   "source": [
    "%pwd # получить текущую директорию"
   ]
  },
  {
   "cell_type": "code",
   "execution_count": 3,
   "metadata": {},
   "outputs": [],
   "source": [
    "os.chdir(\"../\") # перейти в директорию выше"
   ]
  },
  {
   "cell_type": "code",
   "execution_count": 4,
   "metadata": {},
   "outputs": [
    {
     "data": {
      "text/plain": [
       "'c:\\\\Users\\\\Mikhnin\\\\Desktop\\\\project_1\\\\Text-Summarizer-Project'"
      ]
     },
     "execution_count": 4,
     "metadata": {},
     "output_type": "execute_result"
    }
   ],
   "source": [
    "%pwd # получить текущую директорию"
   ]
  },
  {
   "cell_type": "markdown",
   "metadata": {},
   "source": [
    "Update entity"
   ]
  },
  {
   "cell_type": "code",
   "execution_count": 5,
   "metadata": {},
   "outputs": [],
   "source": [
    "from dataclasses import dataclass\n",
    "from pathlib import Path\n",
    "\n",
    "\n",
    "@dataclass(frozen=True)\n",
    "class ModelEvaluationConfig:\n",
    "    root_dir: Path\n",
    "    data_path: Path\n",
    "    model_path: Path\n",
    "    tokenizer_path: Path\n",
    "    metric_file_name: Path"
   ]
  },
  {
   "cell_type": "markdown",
   "metadata": {},
   "source": [
    "Update the configuration manager in src config\n"
   ]
  },
  {
   "cell_type": "code",
   "execution_count": 6,
   "metadata": {},
   "outputs": [],
   "source": [
    "from textSummarizer.constants import * # импортировать константы\n",
    "from textSummarizer.utils.common import read_yaml, create_directories # импортировать функции"
   ]
  },
  {
   "cell_type": "code",
   "execution_count": 7,
   "metadata": {},
   "outputs": [],
   "source": [
    "class ConfigurationManager: # создать класс для работы с конфигурацией\n",
    "    def __init__( # создать конструктор класса\n",
    "        self,\n",
    "        config_filepath = CONFIG_FILE_PATH, # задать путь к файлу конфигурации\n",
    "        params_filepath = PARAMS_FILE_PATH): # задать путь к файлу параметров\n",
    "\n",
    "        self.config = read_yaml(config_filepath) # прочитать файл конфигурации\n",
    "        self.params = read_yaml(params_filepath) # прочитать файл параметров\n",
    "\n",
    "        create_directories([self.config.artifacts_root])    # создать директорию для артефактов\n",
    "\n",
    "\n",
    "    \n",
    "    def get_model_evaluation_config(self) -> ModelEvaluationConfig: # создать функцию для получения конфигурации\n",
    "        config = self.config.model_evaluation # получить конфигурацию\n",
    "\n",
    "        create_directories([config.root_dir])   # создать директорию для артефактов\n",
    "\n",
    "        model_evaluation_config = ModelEvaluationConfig( # создать конфигурацию\n",
    "            root_dir=config.root_dir, # задать корневую директорию\n",
    "            data_path=config.data_path, # задать путь к данным\n",
    "            model_path = config.model_path, # задать путь к модели\n",
    "            tokenizer_path = config.tokenizer_path, # задать путь к токенизатору\n",
    "            metric_file_name = config.metric_file_name # задать имя файла с метриками\n",
    "           \n",
    "        ) \n",
    "\n",
    "        return model_evaluation_config # вернуть конфигурацию"
   ]
  },
  {
   "cell_type": "markdown",
   "metadata": {},
   "source": [
    "Update the conponents\n"
   ]
  },
  {
   "cell_type": "code",
   "execution_count": 9,
   "metadata": {},
   "outputs": [],
   "source": [
    "from transformers import AutoModelForSeq2SeqLM, AutoTokenizer \n",
    "# импортировать классы для работы с моделью и токенизатором\n",
    "from datasets import load_dataset, load_from_disk, load_metric \n",
    "# импортировать классы для работы с датасетом и метриками\n",
    "import torch # импортировать библиотеку для работы с тензорами\n",
    "import pandas as pd # импортировать библиотеку для работы с таблицами\n",
    "from tqdm import tqdm # импортировать класс для отображения прогресса"
   ]
  },
  {
   "cell_type": "code",
   "execution_count": 10,
   "metadata": {},
   "outputs": [],
   "source": [
    "class ModelEvaluation: # создать класс для оценки модели\n",
    "    def __init__(self, config: ModelEvaluationConfig): # создать конструктор класса\n",
    "        self.config = config # задать конфигурацию\n",
    "\n",
    "\n",
    "    \n",
    "    def generate_batch_sized_chunks(self,list_of_elements, batch_size): \n",
    "        # создать функцию для разделения датасета на батчи\n",
    "        \"\"\"split the dataset into smaller batches that we can process simultaneously\n",
    "        Yield successive batch-sized chunks from list_of_elements.\"\"\"\n",
    "        for i in range(0, len(list_of_elements), batch_size): # создать цикл\n",
    "            yield list_of_elements[i : i + batch_size] # вернуть батч\n",
    "\n",
    "    \n",
    "    def calculate_metric_on_test_ds(self,dataset, metric, model, tokenizer,  # создать функцию для вычисления метрики\n",
    "                               batch_size=16, device=\"cuda\" if torch.cuda.is_available() else \"cpu\",  # задать параметры функции\n",
    "                               column_text=\"article\",  # задать параметры функции\n",
    "                               column_summary=\"highlights\"): # задать параметры функции\n",
    "        article_batches = list(self.generate_batch_sized_chunks(dataset[column_text], batch_size)) # разделить датасет на батчи\n",
    "        target_batches = list(self.generate_batch_sized_chunks(dataset[column_summary], batch_size)) # разделить датасет на батчи\n",
    "\n",
    "        for article_batch, target_batch in tqdm( # создать цикл\n",
    "            zip(article_batches, target_batches), total=len(article_batches)): # создать цикл\n",
    "            \n",
    "            inputs = tokenizer(article_batch, max_length=1024,  truncation=True, # токенизировать текст\n",
    "                            padding=\"max_length\", return_tensors=\"pt\") # токенизировать текст\n",
    "            \n",
    "            summaries = model.generate(input_ids=inputs[\"input_ids\"].to(device), # сгенерировать суммаризации\n",
    "                            attention_mask=inputs[\"attention_mask\"].to(device),  # сгенерировать суммаризации\n",
    "                            length_penalty=0.8, num_beams=8, max_length=128) # сгенерировать суммаризации\n",
    "            ''' parameter for length penalty ensures that the model does not generate sequences that are too long. '''\n",
    "            \n",
    "            # Finally, we decode the generated texts, \n",
    "            # replace the  token, and add the decoded texts with the references to the metric.\n",
    "            decoded_summaries = [tokenizer.decode(s, skip_special_tokens=True,  # декодировать суммаризации\n",
    "                                    clean_up_tokenization_spaces=True)  # декодировать суммаризации\n",
    "                for s in summaries]      # декодировать суммаризации\n",
    "            \n",
    "            decoded_summaries = [d.replace(\"\", \" \") for d in decoded_summaries] # декодировать суммаризации\n",
    "            \n",
    "            \n",
    "            metric.add_batch(predictions=decoded_summaries, references=target_batch) # добавить батч в метрику\n",
    "            \n",
    "        #  Finally compute and return the ROUGE scores.\n",
    "        score = metric.compute() # вычислить метрику\n",
    "        return score # вернуть метрику\n",
    "\n",
    "\n",
    "    def evaluate(self): # создать функцию для оценки модели\n",
    "        device = \"cuda\" if torch.cuda.is_available() else \"cpu\" # задать устройство для обучения\n",
    "        tokenizer = AutoTokenizer.from_pretrained(self.config.tokenizer_path) # загрузить токенизатор\n",
    "        model_pegasus = AutoModelForSeq2SeqLM.from_pretrained(self.config.model_path).to(device) # загрузить модель\n",
    "       \n",
    "        #loading data \n",
    "        dataset_samsum_pt = load_from_disk(self.config.data_path) # загрузить датасет\n",
    "\n",
    "\n",
    "        rouge_names = [\"rouge1\", \"rouge2\", \"rougeL\", \"rougeLsum\"] # задать метрики\n",
    "  \n",
    "        rouge_metric = load_metric('rouge') # загрузить метрику\n",
    "\n",
    "        score = self.calculate_metric_on_test_ds( # вычислить метрику\n",
    "        dataset_samsum_pt['test'][0:10], rouge_metric, model_pegasus, tokenizer, \n",
    "        batch_size = 2, column_text = 'dialogue', column_summary= 'summary' # задать параметры функции\n",
    "            )\n",
    "\n",
    "        rouge_dict = dict((rn, score[rn].mid.fmeasure ) for rn in rouge_names ) # создать словарь с метриками\n",
    "\n",
    "        df = pd.DataFrame(rouge_dict, index = ['pegasus'] ) # создать таблицу с метриками\n",
    "        df.to_csv(self.config.metric_file_name, index=False) # сохранить таблицу с метриками\n"
   ]
  },
  {
   "cell_type": "markdown",
   "metadata": {},
   "source": [
    "Update the pipeline"
   ]
  },
  {
   "cell_type": "code",
   "execution_count": 11,
   "metadata": {},
   "outputs": [
    {
     "name": "stdout",
     "output_type": "stream",
     "text": [
      "[2023-08-20 05:34:12,184: INFO: common: yaml file: config\\config.yaml loaded successfully]\n",
      "[2023-08-20 05:34:12,196: INFO: common: yaml file: params.yaml loaded successfully]\n",
      "[2023-08-20 05:34:12,199: INFO: common: created directory at: artifacts]\n",
      "[2023-08-20 05:34:12,199: INFO: common: created directory at: artifacts/model_evaluation]\n"
     ]
    },
    {
     "name": "stderr",
     "output_type": "stream",
     "text": [
      "C:\\Users\\Mikhnin\\AppData\\Local\\Temp\\ipykernel_21436\\3695441855.py:60: FutureWarning: load_metric is deprecated and will be removed in the next major version of datasets. Use 'evaluate.load' instead, from the new library 🤗 Evaluate: https://huggingface.co/docs/evaluate\n",
      "  rouge_metric = load_metric('rouge') # загрузить метрику\n",
      "Downloading builder script: 5.65kB [00:00, 5.74MB/s]                   \n",
      "100%|██████████| 5/5 [03:26<00:00, 41.22s/it]"
     ]
    },
    {
     "name": "stdout",
     "output_type": "stream",
     "text": [
      "[2023-08-20 05:37:48,237: INFO: rouge_scorer: Using default tokenizer.]\n"
     ]
    },
    {
     "name": "stderr",
     "output_type": "stream",
     "text": [
      "\n"
     ]
    }
   ],
   "source": [
    "try:\n",
    "    config = ConfigurationManager()\n",
    "    model_evaluation_config = config.get_model_evaluation_config()\n",
    "    model_evaluation_config = ModelEvaluation(config=model_evaluation_config)\n",
    "    model_evaluation_config.evaluate()\n",
    "except Exception as e:\n",
    "    raise e"
   ]
  }
 ],
 "metadata": {
  "kernelspec": {
   "display_name": "project_1",
   "language": "python",
   "name": "python3"
  },
  "language_info": {
   "codemirror_mode": {
    "name": "ipython",
    "version": 3
   },
   "file_extension": ".py",
   "mimetype": "text/x-python",
   "name": "python",
   "nbconvert_exporter": "python",
   "pygments_lexer": "ipython3",
   "version": "3.10.12"
  },
  "orig_nbformat": 4
 },
 "nbformat": 4,
 "nbformat_minor": 2
}
