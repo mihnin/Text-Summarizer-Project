{
 "cells": [
  {
   "cell_type": "code",
   "execution_count": 1,
   "metadata": {},
   "outputs": [],
   "source": [
    "import os # импортировать библиотеку для работы с файлами"
   ]
  },
  {
   "cell_type": "code",
   "execution_count": 2,
   "metadata": {},
   "outputs": [
    {
     "data": {
      "text/plain": [
       "'c:\\\\Users\\\\Mikhnin\\\\Desktop\\\\project_1\\\\Text-Summarizer-Project\\\\research'"
      ]
     },
     "execution_count": 2,
     "metadata": {},
     "output_type": "execute_result"
    }
   ],
   "source": [
    "%pwd # получить текущую директорию"
   ]
  },
  {
   "cell_type": "code",
   "execution_count": 3,
   "metadata": {},
   "outputs": [],
   "source": [
    "os.chdir(\"../\") # перейти в директорию выше"
   ]
  },
  {
   "cell_type": "code",
   "execution_count": 4,
   "metadata": {},
   "outputs": [
    {
     "data": {
      "text/plain": [
       "'c:\\\\Users\\\\Mikhnin\\\\Desktop\\\\project_1\\\\Text-Summarizer-Project'"
      ]
     },
     "execution_count": 4,
     "metadata": {},
     "output_type": "execute_result"
    }
   ],
   "source": [
    "%pwd # получить текущую директорию"
   ]
  },
  {
   "cell_type": "markdown",
   "metadata": {},
   "source": [
    "Update entity"
   ]
  },
  {
   "cell_type": "code",
   "execution_count": 5,
   "metadata": {},
   "outputs": [],
   "source": [
    "from dataclasses import dataclass\n",
    "from pathlib import Path\n",
    "\n",
    "\n",
    "@dataclass(frozen=True)\n",
    "class ModelEvaluationConfig:\n",
    "    root_dir: Path\n",
    "    data_path: Path\n",
    "    model_path: Path\n",
    "    tokenizer_path: Path\n",
    "    metric_file_name: Path"
   ]
  },
  {
   "cell_type": "markdown",
   "metadata": {},
   "source": [
    "Update the configuration manager in src config\n"
   ]
  },
  {
   "cell_type": "code",
   "execution_count": 6,
   "metadata": {},
   "outputs": [],
   "source": [
    "from textSummarizer.constants import * # импортировать константы\n",
    "from textSummarizer.utils.common import read_yaml, create_directories # импортировать функции"
   ]
  },
  {
   "cell_type": "code",
   "execution_count": null,
   "metadata": {},
   "outputs": [],
   "source": [
    "class ConfigurationManager: # создать класс для работы с конфигурацией\n",
    "    def __init__( # создать конструктор класса\n",
    "        self,\n",
    "        config_filepath = CONFIG_FILE_PATH, # задать путь к файлу конфигурации\n",
    "        params_filepath = PARAMS_FILE_PATH): # задать путь к файлу параметров\n",
    "\n",
    "        self.config = read_yaml(config_filepath) # прочитать файл конфигурации\n",
    "        self.params = read_yaml(params_filepath) # прочитать файл параметров\n",
    "\n",
    "        create_directories([self.config.artifacts_root])    # создать директорию для артефактов\n",
    "\n",
    "\n",
    "    \n",
    "    def get_model_evaluation_config(self) -> ModelEvaluationConfig: # создать функцию для получения конфигурации\n",
    "        config = self.config.model_evaluation # получить конфигурацию\n",
    "\n",
    "        create_directories([config.root_dir])   # создать директорию для артефактов\n",
    "\n",
    "        model_evaluation_config = ModelEvaluationConfig( # создать конфигурацию\n",
    "            root_dir=config.root_dir, # задать корневую директорию\n",
    "            data_path=config.data_path, # задать путь к данным\n",
    "            model_path = config.model_path, # задать путь к модели\n",
    "            tokenizer_path = config.tokenizer_path, # задать путь к токенизатору\n",
    "            metric_file_name = config.metric_file_name # задать имя файла с метриками\n",
    "           \n",
    "        ) \n",
    "\n",
    "        return model_evaluation_config # вернуть конфигурацию"
   ]
  }
 ],
 "metadata": {
  "kernelspec": {
   "display_name": "project_1",
   "language": "python",
   "name": "python3"
  },
  "language_info": {
   "codemirror_mode": {
    "name": "ipython",
    "version": 3
   },
   "file_extension": ".py",
   "mimetype": "text/x-python",
   "name": "python",
   "nbconvert_exporter": "python",
   "pygments_lexer": "ipython3",
   "version": "3.10.12"
  },
  "orig_nbformat": 4
 },
 "nbformat": 4,
 "nbformat_minor": 2
}
