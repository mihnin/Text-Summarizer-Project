{
 "cells": [
  {
   "cell_type": "code",
   "execution_count": 1,
   "metadata": {},
   "outputs": [],
   "source": [
    "import os # импортируем библиотеку для работы с файловой системой"
   ]
  },
  {
   "cell_type": "code",
   "execution_count": 2,
   "metadata": {},
   "outputs": [
    {
     "data": {
      "text/plain": [
       "'c:\\\\Users\\\\Mikhnin\\\\Desktop\\\\project_1\\\\Text-Summarizer-Project\\\\research'"
      ]
     },
     "execution_count": 2,
     "metadata": {},
     "output_type": "execute_result"
    }
   ],
   "source": [
    "%pwd # проверяем текущую директорию"
   ]
  },
  {
   "cell_type": "code",
   "execution_count": 3,
   "metadata": {},
   "outputs": [],
   "source": [
    "os.chdir(\"../\") # переходим в корневую директорию проекта"
   ]
  },
  {
   "cell_type": "code",
   "execution_count": 4,
   "metadata": {},
   "outputs": [
    {
     "data": {
      "text/plain": [
       "'c:\\\\Users\\\\Mikhnin\\\\Desktop\\\\project_1\\\\Text-Summarizer-Project'"
      ]
     },
     "execution_count": 4,
     "metadata": {},
     "output_type": "execute_result"
    }
   ],
   "source": [
    "%pwd # проверяем текущую директорию"
   ]
  },
  {
   "cell_type": "markdown",
   "metadata": {},
   "source": [
    "Update entity"
   ]
  },
  {
   "cell_type": "code",
   "execution_count": 5,
   "metadata": {},
   "outputs": [],
   "source": [
    "from dataclasses import dataclass\n",
    "from pathlib import Path\n",
    "\n",
    "\n",
    "@dataclass(frozen=True)\n",
    "class ModelTrainerConfig:\n",
    "    root_dir: Path\n",
    "    data_path: Path\n",
    "    model_ckpt: Path\n",
    "    num_train_epochs: int\n",
    "    warmup_steps: int\n",
    "    per_device_train_batch_size: int\n",
    "    weight_decay: float\n",
    "    logging_steps: int\n",
    "    evaluation_strategy: str\n",
    "    eval_steps: int\n",
    "    save_steps: float\n",
    "    gradient_accumulation_steps: int"
   ]
  },
  {
   "cell_type": "markdown",
   "metadata": {},
   "source": [
    "Update the configuration manager in src config"
   ]
  },
  {
   "cell_type": "code",
   "execution_count": 6,
   "metadata": {},
   "outputs": [],
   "source": [
    "from textSummarizer.constants import * # импортируем константы\n",
    "from textSummarizer.utils.common import read_yaml, create_directories # импортируем функции"
   ]
  },
  {
   "cell_type": "code",
   "execution_count": 7,
   "metadata": {},
   "outputs": [],
   "source": [
    "class ConfigurationManager: # создаем класс конфигурации\n",
    "    def __init__(\n",
    "        self,\n",
    "        config_filepath = CONFIG_FILE_PATH,\n",
    "        params_filepath = PARAMS_FILE_PATH):\n",
    "\n",
    "        self.config = read_yaml(config_filepath)\n",
    "        self.params = read_yaml(params_filepath)\n",
    "\n",
    "        create_directories([self.config.artifacts_root])\n",
    "\n",
    "\n",
    "    \n",
    "    def get_model_trainer_config(self) -> ModelTrainerConfig: \n",
    "        # создаем функцию для получения конфигурации модели\n",
    "        config = self.config.model_trainer # получаем конфигурацию модели\n",
    "        params = self.params.TrainingArguments # получаем параметры обучения\n",
    "\n",
    "        create_directories([config.root_dir]) # создаем директорию для сохранения модели\n",
    "\n",
    "        model_trainer_config = ModelTrainerConfig( # создаем конфигурацию модели\n",
    "            root_dir=config.root_dir, # указываем директорию для сохранения модели\n",
    "            data_path=config.data_path, # указываем путь к данным\n",
    "            model_ckpt = config.model_ckpt, # указываем путь к чекпоинту модели\n",
    "            num_train_epochs = params.num_train_epochs, # указываем количество эпох обучения\n",
    "            warmup_steps = params.warmup_steps, # указываем количество шагов для прогрева\n",
    "            per_device_train_batch_size = params.per_device_train_batch_size, # указываем размер батча\n",
    "            weight_decay = params.weight_decay, # указываем коэффициент веса\n",
    "            logging_steps = params.logging_steps, # указываем шаги для логирования\n",
    "            evaluation_strategy = params.evaluation_strategy, # указываем стратегию оценки\n",
    "            eval_steps = params.evaluation_strategy, # указываем шаги для оценки\n",
    "            save_steps = params.save_steps, # указываем шаги для сохранения\n",
    "            gradient_accumulation_steps = params.gradient_accumulation_steps \n",
    "            # указываем шаги для накопления градиента\n",
    "        )\n",
    "\n",
    "        return model_trainer_config # возвращаем конфигурацию модели"
   ]
  },
  {
   "cell_type": "markdown",
   "metadata": {},
   "source": [
    "Update the conponents\n"
   ]
  },
  {
   "cell_type": "code",
   "execution_count": 8,
   "metadata": {},
   "outputs": [
    {
     "name": "stderr",
     "output_type": "stream",
     "text": [
      "c:\\Users\\Mikhnin\\miniconda3\\envs\\project_1\\lib\\site-packages\\tqdm\\auto.py:21: TqdmWarning: IProgress not found. Please update jupyter and ipywidgets. See https://ipywidgets.readthedocs.io/en/stable/user_install.html\n",
      "  from .autonotebook import tqdm as notebook_tqdm\n"
     ]
    }
   ],
   "source": [
    "from transformers import TrainingArguments, Trainer # импортируем классы для обучения модели\n",
    "from transformers import DataCollatorForSeq2Seq # импортируем класс для создания коллатора данных\n",
    "from transformers import AutoModelForSeq2SeqLM, AutoTokenizer # импортируем классы для работы с моделью\n",
    "from datasets import load_dataset, load_from_disk # импортируем классы для работы с датасетом\n",
    "import torch # импортируем библиотеку для работы с тензорами"
   ]
  },
  {
   "cell_type": "code",
   "execution_count": 9,
   "metadata": {},
   "outputs": [],
   "source": [
    "class ModelTrainer: # создаем класс для обучения модели\n",
    "    def __init__(self, config: ModelTrainerConfig): # создаем конструктор класса\n",
    "        self.config = config # инициализируем конфигурацию модели\n",
    "\n",
    "\n",
    "    \n",
    "    def train(self): # создаем функцию для обучения модели\n",
    "        device = \"cuda\" if torch.cuda.is_available() else \"cpu\" # получаем доступное устройство для обучения\n",
    "        tokenizer = AutoTokenizer.from_pretrained(self.config.model_ckpt) # загружаем токенайзер\n",
    "        model_pegasus = AutoModelForSeq2SeqLM.from_pretrained(self.config.model_ckpt).to(device) # загружаем модель\n",
    "        seq2seq_data_collator = DataCollatorForSeq2Seq(tokenizer, model=model_pegasus) # создаем коллатор данных\n",
    "        \n",
    "        #loading data \n",
    "        dataset_samsum_pt = load_from_disk(self.config.data_path) # загружаем датасет\n",
    "\n",
    "      \n",
    "        # trainer_args = TrainingArguments(\n",
    "        #     output_dir=self.config.root_dir, num_train_epochs=self.config.num_train_epochs, warmup_steps=self.config.warmup_steps,\n",
    "        #     per_device_train_batch_size=self.config.per_device_train_batch_size, per_device_eval_batch_size=self.config.per_device_train_batch_size,\n",
    "        #     weight_decay=self.config.weight_decay, logging_steps=self.config.logging_steps,\n",
    "        #     evaluation_strategy=self.config.evaluation_strategy, eval_steps=self.config.eval_steps, save_steps=1e6,\n",
    "        #     gradient_accumulation_steps=self.config.gradient_accumulation_steps\n",
    "        # ) \n",
    "\n",
    "\n",
    "        trainer_args = TrainingArguments(\n",
    "            output_dir=self.config.root_dir, num_train_epochs=1, warmup_steps=500,\n",
    "            per_device_train_batch_size=1, per_device_eval_batch_size=1,\n",
    "            weight_decay=0.01, logging_steps=10,\n",
    "            evaluation_strategy='steps', eval_steps=500, save_steps=1e6,\n",
    "            gradient_accumulation_steps=16\n",
    "        ) \n",
    "\n",
    "        trainer = Trainer(model=model_pegasus, args=trainer_args,  \n",
    "                  tokenizer=tokenizer, data_collator=seq2seq_data_collator,\n",
    "                  train_dataset=dataset_samsum_pt[\"test\"], \n",
    "                  eval_dataset=dataset_samsum_pt[\"validation\"]) # создаем тренера\n",
    "        \n",
    "        trainer.train() # запускаем обучение модели\n",
    "\n",
    "        ## Save model\n",
    "        model_pegasus.save_pretrained(os.path.join(self.config.root_dir,\"pegasus-samsum-model\")) # сохраняем модель\n",
    "        ## Save tokenizer\n",
    "        tokenizer.save_pretrained(os.path.join(self.config.root_dir,\"tokenizer\")) # сохраняем токенайзер"
   ]
  },
  {
   "cell_type": "markdown",
   "metadata": {},
   "source": [
    "Update the pipeline"
   ]
  },
  {
   "cell_type": "code",
   "execution_count": null,
   "metadata": {},
   "outputs": [],
   "source": [
    "try: # создаем блок try-except\n",
    "    config = ConfigurationManager() # создаем конфигурацию\n",
    "    model_trainer_config = config.get_model_trainer_config() # получаем конфигурацию модели\n",
    "    model_trainer_config = ModelTrainer(config=model_trainer_config) # создаем конфигурацию для обучения модели\n",
    "    model_trainer_config.train() # обучаем модель\n",
    "except Exception as e: # создаем блок для обработки ошибок\n",
    "    raise e # выводим ошибку"
   ]
  }
 ],
 "metadata": {
  "kernelspec": {
   "display_name": "project_1",
   "language": "python",
   "name": "python3"
  },
  "language_info": {
   "codemirror_mode": {
    "name": "ipython",
    "version": 3
   },
   "file_extension": ".py",
   "mimetype": "text/x-python",
   "name": "python",
   "nbconvert_exporter": "python",
   "pygments_lexer": "ipython3",
   "version": "3.10.12"
  },
  "orig_nbformat": 4
 },
 "nbformat": 4,
 "nbformat_minor": 2
}
