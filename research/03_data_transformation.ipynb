{
 "cells": [
  {
   "cell_type": "code",
   "execution_count": 1,
   "metadata": {},
   "outputs": [],
   "source": [
    "import os # импортируем библиотеку для работы с файловой системой"
   ]
  },
  {
   "cell_type": "code",
   "execution_count": 2,
   "metadata": {},
   "outputs": [
    {
     "data": {
      "text/plain": [
       "'c:\\\\Users\\\\Mikhnin\\\\Desktop\\\\project_1\\\\Text-Summarizer-Project\\\\research'"
      ]
     },
     "execution_count": 2,
     "metadata": {},
     "output_type": "execute_result"
    }
   ],
   "source": [
    "%pwd # проверяем текущую директорию"
   ]
  },
  {
   "cell_type": "code",
   "execution_count": 3,
   "metadata": {},
   "outputs": [],
   "source": [
    "os.chdir(\"../\") # переходим в корневую директорию проекта"
   ]
  },
  {
   "cell_type": "code",
   "execution_count": 4,
   "metadata": {},
   "outputs": [
    {
     "data": {
      "text/plain": [
       "'c:\\\\Users\\\\Mikhnin\\\\Desktop\\\\project_1\\\\Text-Summarizer-Project'"
      ]
     },
     "execution_count": 4,
     "metadata": {},
     "output_type": "execute_result"
    }
   ],
   "source": [
    "%pwd # проверяем текущую директорию"
   ]
  },
  {
   "cell_type": "markdown",
   "metadata": {},
   "source": [
    "Update entity\n"
   ]
  },
  {
   "cell_type": "code",
   "execution_count": 5,
   "metadata": {},
   "outputs": [],
   "source": [
    "from dataclasses import dataclass # импортируем декоратор для создания класса с полями-параметрами\n",
    "from pathlib import Path # импортируем класс для работы с путями\n",
    "\n",
    "\n",
    "@dataclass(frozen=True) # создаем класс с полями-параметрами\n",
    "class DataTransformationConfig: # класс для хранения конфигурации\n",
    "    root_dir: Path # путь к корневой директории проекта\n",
    "    data_path: Path # путь к директории с исходными данными\n",
    "    tokenizer_name: Path # путь к директории с токенизатором"
   ]
  },
  {
   "cell_type": "markdown",
   "metadata": {},
   "source": [
    "Update the configuration manager in src config"
   ]
  },
  {
   "cell_type": "code",
   "execution_count": 6,
   "metadata": {},
   "outputs": [],
   "source": [
    "from textSummarizer.constants import * # импортируем константы\n",
    "from textSummarizer.utils.common import read_yaml, create_directories \n",
    "# импортируем функции для работы с конфигурацией и файловой системой"
   ]
  },
  {
   "cell_type": "code",
   "execution_count": 7,
   "metadata": {},
   "outputs": [],
   "source": [
    "class ConfigurationManager: # класс для хранения конфигурации\n",
    "    def __init__(\n",
    "        self,\n",
    "        config_filepath = CONFIG_FILE_PATH, \n",
    "        params_filepath = PARAMS_FILE_PATH):\n",
    "\n",
    "        self.config = read_yaml(config_filepath)\n",
    "        self.params = read_yaml(params_filepath)\n",
    "\n",
    "        create_directories([self.config.artifacts_root])\n",
    "\n",
    "\n",
    "    \n",
    "    def get_data_transformation_config(self) -> DataTransformationConfig: # функция для получения конфигурации\n",
    "        config = self.config.data_transformation # получаем конфигурацию\n",
    "\n",
    "        create_directories([config.root_dir]) # создаем директории\n",
    "\n",
    "        data_transformation_config = DataTransformationConfig( \n",
    "            # создаем объект конфигурации\n",
    "            root_dir=config.root_dir, \n",
    "            data_path=config.data_path,\n",
    "            tokenizer_name = config.tokenizer_name\n",
    "        )\n",
    "\n",
    "        return data_transformation_config # возвращаем конфигурацию"
   ]
  },
  {
   "cell_type": "markdown",
   "metadata": {},
   "source": [
    "update the conponents"
   ]
  },
  {
   "cell_type": "markdown",
   "metadata": {},
   "source": [
    "Токенизация — это процесс разделения текста на отдельные части, называемые токенами. Токены могут быть словами, числами, символами пунктуации или другими элементами текста.\n"
   ]
  },
  {
   "cell_type": "code",
   "execution_count": 9,
   "metadata": {},
   "outputs": [],
   "source": [
    "import os # импортируем библиотеку для работы с файловой системой\n",
    "from textSummarizer.logging import logger # импортируем логгер\n",
    "from transformers import AutoTokenizer # импортируем токенизатор\n",
    "from datasets import load_dataset, load_from_disk # импортируем функции для загрузки датасета"
   ]
  },
  {
   "cell_type": "code",
   "execution_count": 10,
   "metadata": {},
   "outputs": [],
   "source": [
    "class DataTransformation: # класс для преобразования данных\n",
    "    def __init__(self, config: DataTransformationConfig): # конструктор класса\n",
    "        self.config = config # сохраняем конфигурацию\n",
    "        self.tokenizer = AutoTokenizer.from_pretrained(config.tokenizer_name) # загружаем токенизатор\n",
    "\n",
    "\n",
    "    \n",
    "    def convert_examples_to_features(self,example_batch): # функция для преобразования данных\n",
    "        input_encodings = self.tokenizer(example_batch['dialogue'] , max_length = 1024, truncation = True ) \n",
    "        # токенизируем диалог\n",
    "        \n",
    "        with self.tokenizer.as_target_tokenizer(): # используем токенизатор для целевых данных\n",
    "            target_encodings = self.tokenizer(example_batch['summary'], max_length = 128, truncation = True ) \n",
    "            # токенизируем суммарный текст\n",
    "            \n",
    "        return {\n",
    "            'input_ids' : input_encodings['input_ids'], # возвращаем токенизированные данные\n",
    "            'attention_mask': input_encodings['attention_mask'], # возвращаем маску внимания\n",
    "            'labels': target_encodings['input_ids'] # возвращаем токенизированные целевые данные\n",
    "        }\n",
    "    \n",
    "\n",
    "    def convert(self): # функция для преобразования данных\n",
    "        dataset_samsum = load_from_disk(self.config.data_path) # загружаем датасет\n",
    "        dataset_samsum_pt = dataset_samsum.map(self.convert_examples_to_features, batched = True) \n",
    "        # преобразуем данные\n",
    "        dataset_samsum_pt.save_to_disk(os.path.join(self.config.root_dir,\"samsum_dataset\")) # сохраняем датасет"
   ]
  },
  {
   "cell_type": "markdown",
   "metadata": {},
   "source": [
    "update the pipeline"
   ]
  },
  {
   "cell_type": "code",
   "execution_count": 11,
   "metadata": {},
   "outputs": [
    {
     "name": "stdout",
     "output_type": "stream",
     "text": [
      "[2023-08-19 23:06:24,967: INFO: common: yaml file: config\\config.yaml loaded successfully]\n",
      "[2023-08-19 23:06:24,969: INFO: common: yaml file: params.yaml loaded successfully]\n",
      "[2023-08-19 23:06:24,971: INFO: common: created directory at: artifacts]\n",
      "[2023-08-19 23:06:24,973: INFO: common: created directory at: artifacts/data_transformation]\n"
     ]
    },
    {
     "name": "stderr",
     "output_type": "stream",
     "text": [
      "Map:   0%|          | 0/14732 [00:00<?, ? examples/s]c:\\Users\\Mikhnin\\miniconda3\\envs\\project_1\\lib\\site-packages\\transformers\\tokenization_utils_base.py:3635: UserWarning: `as_target_tokenizer` is deprecated and will be removed in v5 of Transformers. You can tokenize your labels by using the argument `text_target` of the regular `__call__` method (either in the same call as your input texts if you use the same keyword arguments, or in a separate call.\n",
      "  warnings.warn(\n",
      "Map: 100%|██████████| 14732/14732 [00:01<00:00, 7535.98 examples/s]\n",
      "Map: 100%|██████████| 819/819 [00:00<00:00, 6965.66 examples/s]\n",
      "Map: 100%|██████████| 818/818 [00:00<00:00, 7098.41 examples/s]\n",
      "Saving the dataset (1/1 shards): 100%|██████████| 14732/14732 [00:00<00:00, 622072.75 examples/s]\n",
      "Saving the dataset (1/1 shards): 100%|██████████| 819/819 [00:00<00:00, 163679.18 examples/s]\n",
      "Saving the dataset (1/1 shards): 100%|██████████| 818/818 [00:00<00:00, 117172.93 examples/s]\n"
     ]
    }
   ],
   "source": [
    "try: # оборачиваем код в try-except для отлова ошибок\n",
    "    config = ConfigurationManager() # создаем объект конфигурации\n",
    "    data_transformation_config = config.get_data_transformation_config() # получаем конфигурацию\n",
    "    data_transformation = DataTransformation(config=data_transformation_config) # создаем объект класса\n",
    "    data_transformation.convert() # преобразуем данные\n",
    "except Exception as e: # если произошла ошибка\n",
    "    raise e # выбрасываем исключение"
   ]
  }
 ],
 "metadata": {
  "kernelspec": {
   "display_name": "project_1",
   "language": "python",
   "name": "python3"
  },
  "language_info": {
   "codemirror_mode": {
    "name": "ipython",
    "version": 3
   },
   "file_extension": ".py",
   "mimetype": "text/x-python",
   "name": "python",
   "nbconvert_exporter": "python",
   "pygments_lexer": "ipython3",
   "version": "3.10.12"
  },
  "orig_nbformat": 4
 },
 "nbformat": 4,
 "nbformat_minor": 2
}
