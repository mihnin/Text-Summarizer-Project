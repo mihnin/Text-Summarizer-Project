{
 "cells": [
  {
   "cell_type": "code",
   "execution_count": 2,
   "metadata": {},
   "outputs": [],
   "source": [
    "import os # импорт библиотеки для работы с файловой системой"
   ]
  },
  {
   "cell_type": "code",
   "execution_count": 3,
   "metadata": {},
   "outputs": [
    {
     "data": {
      "text/plain": [
       "'c:\\\\Users\\\\Mikhnin\\\\Desktop\\\\project_1\\\\Text-Summarizer-Project\\\\research'"
      ]
     },
     "execution_count": 3,
     "metadata": {},
     "output_type": "execute_result"
    }
   ],
   "source": [
    "%pwd # вывод текущей директории"
   ]
  },
  {
   "cell_type": "code",
   "execution_count": 4,
   "metadata": {},
   "outputs": [],
   "source": [
    "os.chdir(\"../\")  # переход в родительскую директорию"
   ]
  },
  {
   "cell_type": "code",
   "execution_count": 5,
   "metadata": {},
   "outputs": [
    {
     "data": {
      "text/plain": [
       "'c:\\\\Users\\\\Mikhnin\\\\Desktop\\\\project_1\\\\Text-Summarizer-Project'"
      ]
     },
     "execution_count": 5,
     "metadata": {},
     "output_type": "execute_result"
    }
   ],
   "source": [
    "%pwd # вывод текущей директории"
   ]
  },
  {
   "cell_type": "markdown",
   "metadata": {},
   "source": [
    "Update entity\n"
   ]
  },
  {
   "cell_type": "code",
   "execution_count": 6,
   "metadata": {},
   "outputs": [],
   "source": [
    "from dataclasses import dataclass # импорт библиотеки для работы с классами данных\n",
    "from pathlib import Path # импорт библиотеки для работы с путями\n",
    "\n",
    "\n",
    "@dataclass(frozen=True) # декоратор для класса данных\n",
    "class DataValidationConfig: # класс данных для хранения конфигурации валидации\n",
    "    root_dir: Path # корневая директория\n",
    "    STATUS_FILE: str  # файл со статусом\n",
    "    ALL_REQUIRED_FILES: list # список всех необходимых файлов"
   ]
  },
  {
   "cell_type": "markdown",
   "metadata": {},
   "source": [
    "Update the configuration manager in src config\n"
   ]
  },
  {
   "cell_type": "code",
   "execution_count": 7,
   "metadata": {},
   "outputs": [],
   "source": [
    "from textSummarizer.constants import * # импорт констант\n",
    "from textSummarizer.utils.common import read_yaml, create_directories # импорт функций из модуля common"
   ]
  },
  {
   "cell_type": "code",
   "execution_count": 8,
   "metadata": {},
   "outputs": [],
   "source": [
    "class ConfigurationManager: # класс для хранения конфигурации\n",
    "    def __init__( \n",
    "        self,\n",
    "        config_filepath = CONFIG_FILE_PATH, \n",
    "        params_filepath = PARAMS_FILE_PATH):\n",
    "\n",
    "        self.config = read_yaml(config_filepath)\n",
    "        self.params = read_yaml(params_filepath)\n",
    "\n",
    "        create_directories([self.config.artifacts_root])\n",
    "\n",
    "\n",
    "    \n",
    "    def get_data_validation_config(self) -> DataValidationConfig: # функция для получения конфигурации валидации\n",
    "        config = self.config.data_validation # получение конфигурации валидации\n",
    "\n",
    "        create_directories([config.root_dir]) # создание директории\n",
    "\n",
    "        data_validation_config = DataValidationConfig( # создание объекта класса данных\n",
    "            root_dir=config.root_dir, \n",
    "            STATUS_FILE=config.STATUS_FILE,\n",
    "            ALL_REQUIRED_FILES=config.ALL_REQUIRED_FILES,\n",
    "        )\n",
    "\n",
    "        return data_validation_config # возвращение объекта класса данных"
   ]
  },
  {
   "cell_type": "markdown",
   "metadata": {},
   "source": [
    "update the conponents\n"
   ]
  },
  {
   "cell_type": "code",
   "execution_count": 9,
   "metadata": {},
   "outputs": [],
   "source": [
    "import os # импорт библиотеки для работы с файловой системой\n",
    "from textSummarizer.logging import logger # импорт логгера"
   ]
  },
  {
   "cell_type": "markdown",
   "metadata": {},
   "source": [
    "В представленном коде для класса DataValidation реализована простая проверка существования необходимых файлов данных. Это сделано в целях демонстрации базового функционала валидации данных в рамках текущего проекта по текстовому обобщению.\n",
    "\n",
    "Однако стоит отметить, что данный класс можно легко расширять и использовать для реализации более сложной логики валидации данных в других проектах машинного обучения.\n",
    "\n",
    "В частности, в него можно добавить методы для проверки целостности данных, наличия пропущенных значений, корректности структуры данных, соответствия ожидаемым типам данных и диапазонам значений, а также валидации бизнес-логики и корректности с точки зрения предметной области.\n",
    "\n",
    "Реализация более сложных проверок позволит улучшить качество валидации данных и повысить надежность последующих этапов машинного обучения, таких как тренировка и оценка моделей. Таким образом, класс DataValidation можно рассматривать как базовый компонент валидации, который при необходимости можно модифицировать и расширять дополнительной логикой валидации."
   ]
  },
  {
   "cell_type": "code",
   "execution_count": 12,
   "metadata": {},
   "outputs": [],
   "source": [
    "class DataValiadtion: # класс для валидации данных\n",
    "    def __init__(self, config: DataValidationConfig): # конструктор класса\n",
    "        self.config = config # получение конфигурации\n",
    "\n",
    "\n",
    "    \n",
    "    def validate_all_files_exist(self)-> bool: # функция для валидации наличия всех необходимых файлов\n",
    "        try:\n",
    "            validation_status = None # инициализация статуса валидации\n",
    "\n",
    "            all_files = os.listdir(os.path.join(\"artifacts\",\"data_ingestion\",\"samsum_dataset\")) \n",
    "            # получение списка всех файлов\n",
    "\n",
    "            for file in all_files: # цикл по всем файлам\n",
    "                if file not in self.config.ALL_REQUIRED_FILES: # проверка наличия файла в списке необходимых\n",
    "                    validation_status = False # установка статуса валидации\n",
    "                    with open(self.config.STATUS_FILE, 'w') as f: # запись статуса в файл\n",
    "                        f.write(f\"Validation status: {validation_status}\") # запись статуса в файл\n",
    "                else: # если все файлы присутствуют\n",
    "                    validation_status = True # установка статуса валидации\n",
    "                    with open(self.config.STATUS_FILE, 'w') as f: # запись статуса в файл\n",
    "                        f.write(f\"Validation status: {validation_status}\") # запись статуса в файл\n",
    "\n",
    "            return validation_status # возвращение статуса валидации\n",
    "        \n",
    "        except Exception as e: # обработка ошибок\n",
    "            raise e # выброс ошибки"
   ]
  },
  {
   "cell_type": "markdown",
   "metadata": {},
   "source": [
    "update the pipeline"
   ]
  },
  {
   "cell_type": "code",
   "execution_count": 13,
   "metadata": {},
   "outputs": [
    {
     "name": "stdout",
     "output_type": "stream",
     "text": [
      "[2023-08-19 18:54:02,123: INFO: common: yaml file: config\\config.yaml loaded successfully]\n",
      "[2023-08-19 18:54:02,125: INFO: common: yaml file: params.yaml loaded successfully]\n",
      "[2023-08-19 18:54:02,128: INFO: common: created directory at: artifacts]\n",
      "[2023-08-19 18:54:02,129: INFO: common: created directory at: artifacts/data_validation]\n"
     ]
    }
   ],
   "source": [
    "try: # обработка ошибок\n",
    "    config = ConfigurationManager() # создание объекта класса конфигурации\n",
    "    data_validation_config = config.get_data_validation_config() # получение конфигурации валидации\n",
    "    data_validation = DataValiadtion(config=data_validation_config) # создание объекта класса валидации\n",
    "    data_validation.validate_all_files_exist() # валидация наличия всех необходимых файлов\n",
    "except Exception as e: # обработка ошибок\n",
    "    raise e # выброс ошибки"
   ]
  }
 ],
 "metadata": {
  "kernelspec": {
   "display_name": "project_1",
   "language": "python",
   "name": "python3"
  },
  "language_info": {
   "codemirror_mode": {
    "name": "ipython",
    "version": 3
   },
   "file_extension": ".py",
   "mimetype": "text/x-python",
   "name": "python",
   "nbconvert_exporter": "python",
   "pygments_lexer": "ipython3",
   "version": "3.10.12"
  },
  "orig_nbformat": 4
 },
 "nbformat": 4,
 "nbformat_minor": 2
}
