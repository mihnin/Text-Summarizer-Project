{
 "cells": [
  {
   "cell_type": "code",
   "execution_count": 1,
   "metadata": {},
   "outputs": [],
   "source": [
    "# Данный код импортирует модуль `os`, который предоставляет функции для работы с операционной системой. \n",
    "# Этот модуль может использоваться для манипуляций с файлами и директориями, \n",
    "# для запуска команд в терминале и т.д.\n",
    "import os"
   ]
  },
  {
   "cell_type": "code",
   "execution_count": 2,
   "metadata": {},
   "outputs": [
    {
     "data": {
      "text/plain": [
       "'c:\\\\Users\\\\Mikhnin\\\\Desktop\\\\project_1\\\\Text-Summarizer-Project\\\\research'"
      ]
     },
     "execution_count": 2,
     "metadata": {},
     "output_type": "execute_result"
    }
   ],
   "source": [
    "# вывод текущей рабочей директории\n",
    "%pwd"
   ]
  },
  {
   "cell_type": "code",
   "execution_count": 3,
   "metadata": {},
   "outputs": [],
   "source": [
    "# изменяем текущую рабочую директорию на одну директорию выше относительно текущей\n",
    "os.chdir(\"../\")"
   ]
  },
  {
   "cell_type": "code",
   "execution_count": 4,
   "metadata": {},
   "outputs": [
    {
     "data": {
      "text/plain": [
       "'c:\\\\Users\\\\Mikhnin\\\\Desktop\\\\project_1\\\\Text-Summarizer-Project'"
      ]
     },
     "execution_count": 4,
     "metadata": {},
     "output_type": "execute_result"
    }
   ],
   "source": [
    "%pwd"
   ]
  },
  {
   "cell_type": "code",
   "execution_count": 5,
   "metadata": {},
   "outputs": [],
   "source": [
    "# entity \n",
    "# В этом блоке кода определен класс DataIngestionConfig, который используется для хранения конфигурации \n",
    "# процесса загрузки данных. Класс содержит несколько полей, таких как root_dir, source_URL и local_data_file, \n",
    "# которые определяют корневую директорию, URL-адрес и локальный файл данных соответственно. \n",
    "# Также класс содержит поле unzip_dir, которое определяет директорию, в которую будут распакованы данные после загрузки.\n",
    "from dataclasses import dataclass\n",
    "from pathlib import Path\n",
    "\n",
    "@dataclass(frozen=True)\n",
    "class DataIngestionConfig:\n",
    "    root_dir: Path\n",
    "    source_URL: str\n",
    "    local_data_file: Path\n",
    "    unzip_dir: Path"
   ]
  },
  {
   "cell_type": "code",
   "execution_count": 6,
   "metadata": {},
   "outputs": [],
   "source": [
    "# configuration manager in src config\n",
    "# Импортируем константы из модуля textSummarizer.constants\n",
    "from textSummarizer.constants import *\n",
    "# Импортируем функции read_yaml и create_directories из модуля textSummarizer.utils.common\n",
    "from textSummarizer.utils.common import read_yaml, create_directories"
   ]
  },
  {
   "cell_type": "code",
   "execution_count": 7,
   "metadata": {},
   "outputs": [],
   "source": [
    "# Класс ConfigurationManager определяет менеджер конфигурации, \n",
    "# который используется для загрузки конфигурационных файлов и параметров.\n",
    "class ConfigurationManager:\n",
    "    \n",
    "    # Конструктор класса ConfigurationManager.\n",
    "    def __init__(\n",
    "        self,\n",
    "        config_filepath = CONFIG_FILE_PATH,\n",
    "        params_filepath = PARAMS_FILE_PATH):\n",
    "        \n",
    "        # Чтение конфигурационных файлов.\n",
    "        self.config = read_yaml(config_filepath)\n",
    "        self.params = read_yaml(params_filepath)\n",
    "\n",
    "        # Создание директорий для хранения артефактов.\n",
    "        create_directories([self.config.artifacts_root])\n",
    "\n",
    "    # Метод get_data_ingestion_config возвращает конфигурацию процесса загрузки данных.\n",
    "    def get_data_ingestion_config(self) -> DataIngestionConfig:\n",
    "        \n",
    "        # Получение конфигурации процесса загрузки данных.\n",
    "        config = self.config.data_ingestion\n",
    "\n",
    "        # Создание директорий для хранения данных.\n",
    "        create_directories([config.root_dir])\n",
    "\n",
    "        # Создание объекта DataIngestionConfig, который содержит конфигурацию процесса загрузки данных.\n",
    "        data_ingestion_config = DataIngestionConfig(\n",
    "            root_dir=config.root_dir,\n",
    "            source_URL=config.source_URL,\n",
    "            local_data_file=config.local_data_file,\n",
    "            unzip_dir=config.unzip_dir \n",
    "        )\n",
    "\n",
    "        # Возвращение объекта DataIngestionConfig.\n",
    "        return data_ingestion_config"
   ]
  },
  {
   "cell_type": "code",
   "execution_count": 8,
   "metadata": {},
   "outputs": [],
   "source": [
    "# created conponent\n",
    "\n",
    "import os\n",
    "import urllib.request as request\n",
    "import zipfile\n",
    "from textSummarizer.logging import logger\n",
    "from textSummarizer.utils.common import get_size"
   ]
  },
  {
   "cell_type": "code",
   "execution_count": 9,
   "metadata": {},
   "outputs": [],
   "source": [
    "# Определяем класс DataIngestion, который используется для загрузки и распаковки данных.\n",
    "class DataIngestion:\n",
    "    \n",
    "    # Конструктор класса DataIngestion.\n",
    "    def __init__(self, config: DataIngestionConfig):\n",
    "        self.config = config\n",
    "\n",
    "    # Метод download_file загружает файл данных из URL-адреса и сохраняет его в локальной директории.\n",
    "    def download_file(self):\n",
    "        \n",
    "        # Проверяем, существует ли локальный файл данных.\n",
    "        if not os.path.exists(self.config.local_data_file):\n",
    "            \n",
    "            # Если локальный файл данных не существует, то загружаем его из URL-адреса.\n",
    "            filename, headers = request.urlretrieve(\n",
    "                url = self.config.source_URL,\n",
    "                filename = self.config.local_data_file\n",
    "            )\n",
    "            \n",
    "            # Выводим сообщение о том, что файл данных был успешно загружен.\n",
    "            logger.info(f\"{filename} download! with following info: \\n{headers}\")\n",
    "        \n",
    "        # Если локальный файл данных уже существует, то выводим сообщение о его размере.\n",
    "        else:\n",
    "            logger.info(f\"File already exists of size: {get_size(Path(self.config.local_data_file))}\")  \n",
    "\n",
    "    # Метод extract_zip_file распаковывает архив с данными в локальной директории.\n",
    "    def extract_zip_file(self):\n",
    "        \n",
    "        # Определяем директорию, в которую будут распакованы данные.\n",
    "        unzip_path = self.config.unzip_dir\n",
    "        \n",
    "        # Создаем директорию, если она не существует.\n",
    "        os.makedirs(unzip_path, exist_ok=True)        \n",
    "\n",
    "        # Распаковываем архив с данными в директорию unzip_path.\n",
    "        with zipfile.ZipFile(self.config.local_data_file, 'r') as zip_ref:\n",
    "            zip_ref.extractall(unzip_path)"
   ]
  },
  {
   "cell_type": "code",
   "execution_count": 10,
   "metadata": {},
   "outputs": [
    {
     "name": "stdout",
     "output_type": "stream",
     "text": [
      "[2023-08-19 01:35:00,623: INFO: common: yaml file: config\\config.yaml loaded successfully]\n",
      "[2023-08-19 01:35:00,629: INFO: common: yaml file: params.yaml loaded successfully]\n",
      "[2023-08-19 01:35:00,632: INFO: common: created directory at: artifacts]\n",
      "[2023-08-19 01:35:00,634: INFO: common: created directory at: artifacts/data_ingestion]\n",
      "[2023-08-19 01:35:03,269: INFO: 2875172352: artifacts/data_ingestion/data.zip download! with following info: \n",
      "Connection: close\n",
      "Content-Length: 7903594\n",
      "Cache-Control: max-age=300\n",
      "Content-Security-Policy: default-src 'none'; style-src 'unsafe-inline'; sandbox\n",
      "Content-Type: application/zip\n",
      "ETag: \"dbc016a060da18070593b83afff580c9b300f0b6ea4147a7988433e04df246ca\"\n",
      "Strict-Transport-Security: max-age=31536000\n",
      "X-Content-Type-Options: nosniff\n",
      "X-Frame-Options: deny\n",
      "X-XSS-Protection: 1; mode=block\n",
      "X-GitHub-Request-Id: DDD0:3F51:1FA1426:20D909C:64DFF214\n",
      "Accept-Ranges: bytes\n",
      "Date: Fri, 18 Aug 2023 22:35:01 GMT\n",
      "Via: 1.1 varnish\n",
      "X-Served-By: cache-hel1410024-HEL\n",
      "X-Cache: MISS\n",
      "X-Cache-Hits: 0\n",
      "X-Timer: S1692398101.356616,VS0,VE635\n",
      "Vary: Authorization,Accept-Encoding,Origin\n",
      "Access-Control-Allow-Origin: *\n",
      "Cross-Origin-Resource-Policy: cross-origin\n",
      "X-Fastly-Request-ID: 5e815d456b4941dd0213d5b39064192b18e40700\n",
      "Expires: Fri, 18 Aug 2023 22:40:01 GMT\n",
      "Source-Age: 0\n",
      "\n",
      "]\n"
     ]
    }
   ],
   "source": [
    "# created the pipeline\n",
    "try:\n",
    "    \n",
    "# Создаем объект ConfigurationManager, который загружает конфигурационные файлы и параметры.\n",
    "    config = ConfigurationManager()\n",
    "\n",
    "# Получаем конфигурацию процесса загрузки данных.\n",
    "    data_ingestion_config = config.get_data_ingestion_config()\n",
    "\n",
    "# Создаем объект DataIngestion, который используется для загрузки и распаковки данных.\n",
    "    data_ingestion = DataIngestion(config=data_ingestion_config)\n",
    "\n",
    "# Загружаем файл данных из URL-адреса и сохраняем его в локальной директории.\n",
    "    data_ingestion.download_file()\n",
    "\n",
    "# Распаковываем архив с данными в локальной директории.\n",
    "    data_ingestion.extract_zip_file()\n",
    "\n",
    "except Exception as e:\n",
    "    raise e\n"
   ]
  }
 ],
 "metadata": {
  "kernelspec": {
   "display_name": "project_1",
   "language": "python",
   "name": "python3"
  },
  "language_info": {
   "codemirror_mode": {
    "name": "ipython",
    "version": 3
   },
   "file_extension": ".py",
   "mimetype": "text/x-python",
   "name": "python",
   "nbconvert_exporter": "python",
   "pygments_lexer": "ipython3",
   "version": "3.10.12"
  },
  "orig_nbformat": 4
 },
 "nbformat": 4,
 "nbformat_minor": 2
}
